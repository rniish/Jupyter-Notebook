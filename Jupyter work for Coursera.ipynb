{
 "cells": [
  {
   "cell_type": "markdown",
   "id": "34e51515",
   "metadata": {},
   "source": [
    "Hey !! welcome to the Jupyter Labs"
   ]
  },
  {
   "cell_type": "markdown",
   "id": "87ff905e",
   "metadata": {},
   "source": [
    "Hey !! welcome to the Jupyter Labs\n",
    "\n",
    "Here is an ordered list of popular data science languages:\n",
    "\n",
    "Python\n",
    "R\n",
    "SQL\n",
    "Julia\n",
    "MATLAB\n",
    "SAS\n",
    "Scala\n",
    "Java\n",
    "C++\n",
    "Lua"
   ]
  },
  {
   "cell_type": "markdown",
   "id": "3743d3ac",
   "metadata": {},
   "source": [
    "Hey !! welcome to the Jupyter Labs\n",
    "\n",
    "Here's an ordered list of some commonly used data science libraries:\n",
    "\n",
    "NumPy: a library for numerical computing in Python.\n",
    "Pandas: a library for data manipulation and analysis in Python.\n",
    "Matplotlib: a library for creating static, animated, and interactive visualizations in Python.\n",
    "Seaborn: a library for creating statistical graphics in Python.\n",
    "Scikit-learn: a library for machine learning in Python, including tools for classification, regression, clustering, and more.\n",
    "TensorFlow: a library for building and training machine learning models in Python, developed by Google.\n",
    "PyTorch: a library for building and training machine learning models in Python, developed by Facebook.\n",
    "Keras: a high-level library for building and training machine learning models in Python, with support for deep learning.\n",
    "NLTK: a library for natural language processing in Python, including tools for tokenization, stemming, tagging, parsing, and more.\n",
    "OpenCV: a library for computer vision in Python, including tools for image and video processing, object detection, tracking, and more."
   ]
  },
  {
   "cell_type": "markdown",
   "id": "41d22d5f",
   "metadata": {},
   "source": [
    "Here are some commonly used data science tools:\n",
    "\n",
    "Jupyter Notebooks / JupyterLab: An open-source web application that allows you to create and share documents that contain live code, equations, visualizations, and narrative text.\n",
    "\n",
    "RStudio: An integrated development environment (IDE) for R, a popular programming language for statistical computing and graphics.\n",
    "\n",
    "PyCharm: An IDE for Python that provides code analysis, a graphical debugger, version control, and other features useful for developing data science applications.\n",
    "\n",
    "IBM Watson Studio: A cloud-based platform for building and deploying machine learning models.\n",
    "\n",
    "Tableau: A data visualization tool that allows users to create interactive dashboards, reports, and charts."
   ]
  },
  {
   "cell_type": "markdown",
   "id": "7a5b9d00",
   "metadata": {},
   "source": [
    "An arithmetic expression is a combination of numbers, operators, and parentheses that can be evaluated to produce a numerical result."
   ]
  },
  {
   "cell_type": "code",
   "execution_count": 3,
   "id": "949c4449",
   "metadata": {},
   "outputs": [
    {
     "name": "stdout",
     "output_type": "stream",
     "text": [
      "6\n",
      "8\n"
     ]
    }
   ],
   "source": [
    "a = 2\n",
    "\n",
    "b = 4\n",
    "\n",
    "c = a + b\n",
    "d = a * b\n",
    "\n",
    "print(c)\n",
    "print(d)"
   ]
  },
  {
   "cell_type": "code",
   "execution_count": 4,
   "id": "8f461dbe",
   "metadata": {},
   "outputs": [
    {
     "name": "stdout",
     "output_type": "stream",
     "text": [
      "2.5\n"
     ]
    }
   ],
   "source": [
    "minutes = 150\n",
    "hours = minutes / 60\n",
    "print(hours)\n"
   ]
  },
  {
   "cell_type": "code",
   "execution_count": null,
   "id": "6835df41",
   "metadata": {},
   "outputs": [],
   "source": []
  }
 ],
 "metadata": {
  "kernelspec": {
   "display_name": "Python 3 (ipykernel)",
   "language": "python",
   "name": "python3"
  },
  "language_info": {
   "codemirror_mode": {
    "name": "ipython",
    "version": 3
   },
   "file_extension": ".py",
   "mimetype": "text/x-python",
   "name": "python",
   "nbconvert_exporter": "python",
   "pygments_lexer": "ipython3",
   "version": "3.9.7"
  }
 },
 "nbformat": 4,
 "nbformat_minor": 5
}
